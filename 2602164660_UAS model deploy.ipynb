{
 "cells": [
  {
   "cell_type": "markdown",
   "id": "9b38e49a-a3b3-4ee8-987d-e50f02611b40",
   "metadata": {},
   "source": [
    "- nama: Dimas Aditya Susetyo\n",
    "- NIM: 2602164660"
   ]
  },
  {
   "cell_type": "code",
   "execution_count": 1,
   "id": "5cc2944f-9f5b-4977-89f3-aaedca905699",
   "metadata": {},
   "outputs": [],
   "source": [
    "import numpy as np\n",
    "import pandas as pd\n",
    "import matplotlib.pyplot as plt\n",
    "import seaborn as sn\n",
    "import pickle as pkl\n",
    "\n",
    "from sklearn import metrics\n",
    "from sklearn.model_selection import train_test_split\n",
    "from sklearn.metrics import accuracy_score, recall_score, precision_score, f1_score, roc_auc_score, log_loss\n",
    "from sklearn.metrics import classification_report, confusion_matrix\n",
    "from sklearn.preprocessing import LabelEncoder\n",
    "\n",
    "import warnings\n",
    "warnings.filterwarnings('ignore')"
   ]
  },
  {
   "cell_type": "markdown",
   "id": "45e5c38b-cfed-4084-90e0-3456c78dd13d",
   "metadata": {},
   "source": [
    "## **Import Data**"
   ]
  },
  {
   "cell_type": "code",
   "execution_count": 2,
   "id": "2d197484-b504-401c-bfad-f077f6b2d06f",
   "metadata": {},
   "outputs": [
    {
     "data": {
      "text/html": [
       "<div>\n",
       "<style scoped>\n",
       "    .dataframe tbody tr th:only-of-type {\n",
       "        vertical-align: middle;\n",
       "    }\n",
       "\n",
       "    .dataframe tbody tr th {\n",
       "        vertical-align: top;\n",
       "    }\n",
       "\n",
       "    .dataframe thead th {\n",
       "        text-align: right;\n",
       "    }\n",
       "</style>\n",
       "<table border=\"1\" class=\"dataframe\">\n",
       "  <thead>\n",
       "    <tr style=\"text-align: right;\">\n",
       "      <th></th>\n",
       "      <th>Unnamed: 0</th>\n",
       "      <th>age</th>\n",
       "      <th>job</th>\n",
       "      <th>marital</th>\n",
       "      <th>education</th>\n",
       "      <th>default</th>\n",
       "      <th>housing</th>\n",
       "      <th>loan</th>\n",
       "      <th>contact</th>\n",
       "      <th>month</th>\n",
       "      <th>day_of_week</th>\n",
       "      <th>duration</th>\n",
       "      <th>campaign</th>\n",
       "      <th>pdays</th>\n",
       "      <th>previous</th>\n",
       "      <th>poutcome</th>\n",
       "      <th>y</th>\n",
       "    </tr>\n",
       "  </thead>\n",
       "  <tbody>\n",
       "    <tr>\n",
       "      <th>0</th>\n",
       "      <td>0</td>\n",
       "      <td>29</td>\n",
       "      <td>technician</td>\n",
       "      <td>single</td>\n",
       "      <td>basic.9y</td>\n",
       "      <td>no</td>\n",
       "      <td>yes</td>\n",
       "      <td>no</td>\n",
       "      <td>cellular</td>\n",
       "      <td>nov</td>\n",
       "      <td>wed</td>\n",
       "      <td>648.0</td>\n",
       "      <td>1</td>\n",
       "      <td>999</td>\n",
       "      <td>0</td>\n",
       "      <td>nonexistent</td>\n",
       "      <td>no</td>\n",
       "    </tr>\n",
       "    <tr>\n",
       "      <th>1</th>\n",
       "      <td>1</td>\n",
       "      <td>31</td>\n",
       "      <td>admin.</td>\n",
       "      <td>single</td>\n",
       "      <td>university.degree</td>\n",
       "      <td>no</td>\n",
       "      <td>no</td>\n",
       "      <td>no</td>\n",
       "      <td>cellular</td>\n",
       "      <td>aug</td>\n",
       "      <td>wed</td>\n",
       "      <td>295.0</td>\n",
       "      <td>1</td>\n",
       "      <td>999</td>\n",
       "      <td>0</td>\n",
       "      <td>nonexistent</td>\n",
       "      <td>no</td>\n",
       "    </tr>\n",
       "    <tr>\n",
       "      <th>2</th>\n",
       "      <td>2</td>\n",
       "      <td>27</td>\n",
       "      <td>blue-collar</td>\n",
       "      <td>single</td>\n",
       "      <td>basic.9y</td>\n",
       "      <td>no</td>\n",
       "      <td>yes</td>\n",
       "      <td>no</td>\n",
       "      <td>telephone</td>\n",
       "      <td>jul</td>\n",
       "      <td>mon</td>\n",
       "      <td>236.0</td>\n",
       "      <td>2</td>\n",
       "      <td>999</td>\n",
       "      <td>0</td>\n",
       "      <td>nonexistent</td>\n",
       "      <td>no</td>\n",
       "    </tr>\n",
       "    <tr>\n",
       "      <th>3</th>\n",
       "      <td>3</td>\n",
       "      <td>30</td>\n",
       "      <td>services</td>\n",
       "      <td>married</td>\n",
       "      <td>unknown</td>\n",
       "      <td>no</td>\n",
       "      <td>no</td>\n",
       "      <td>no</td>\n",
       "      <td>telephone</td>\n",
       "      <td>may</td>\n",
       "      <td>wed</td>\n",
       "      <td>143.0</td>\n",
       "      <td>3</td>\n",
       "      <td>999</td>\n",
       "      <td>0</td>\n",
       "      <td>nonexistent</td>\n",
       "      <td>no</td>\n",
       "    </tr>\n",
       "    <tr>\n",
       "      <th>4</th>\n",
       "      <td>4</td>\n",
       "      <td>32</td>\n",
       "      <td>technician</td>\n",
       "      <td>married</td>\n",
       "      <td>university.degree</td>\n",
       "      <td>no</td>\n",
       "      <td>no</td>\n",
       "      <td>no</td>\n",
       "      <td>cellular</td>\n",
       "      <td>aug</td>\n",
       "      <td>thu</td>\n",
       "      <td>155.0</td>\n",
       "      <td>1</td>\n",
       "      <td>999</td>\n",
       "      <td>0</td>\n",
       "      <td>nonexistent</td>\n",
       "      <td>no</td>\n",
       "    </tr>\n",
       "  </tbody>\n",
       "</table>\n",
       "</div>"
      ],
      "text/plain": [
       "   Unnamed: 0  age          job  marital          education default housing  \\\n",
       "0           0   29   technician   single           basic.9y      no     yes   \n",
       "1           1   31       admin.   single  university.degree      no      no   \n",
       "2           2   27  blue-collar   single           basic.9y      no     yes   \n",
       "3           3   30     services  married            unknown      no      no   \n",
       "4           4   32   technician  married  university.degree      no      no   \n",
       "\n",
       "  loan    contact month day_of_week  duration  campaign  pdays  previous  \\\n",
       "0   no   cellular   nov         wed     648.0         1    999         0   \n",
       "1   no   cellular   aug         wed     295.0         1    999         0   \n",
       "2   no  telephone   jul         mon     236.0         2    999         0   \n",
       "3   no  telephone   may         wed     143.0         3    999         0   \n",
       "4   no   cellular   aug         thu     155.0         1    999         0   \n",
       "\n",
       "      poutcome   y  \n",
       "0  nonexistent  no  \n",
       "1  nonexistent  no  \n",
       "2  nonexistent  no  \n",
       "3  nonexistent  no  \n",
       "4  nonexistent  no  "
      ]
     },
     "execution_count": 2,
     "metadata": {},
     "output_type": "execute_result"
    }
   ],
   "source": [
    "df = pd.read_csv('data_1C.csv')\n",
    "df.head(5)"
   ]
  },
  {
   "cell_type": "code",
   "execution_count": 3,
   "id": "8e444ec1-2d17-4057-8918-9b6bd77f1a78",
   "metadata": {},
   "outputs": [
    {
     "data": {
      "text/plain": [
       "(8237, 17)"
      ]
     },
     "execution_count": 3,
     "metadata": {},
     "output_type": "execute_result"
    }
   ],
   "source": [
    "df.shape"
   ]
  },
  {
   "cell_type": "code",
   "execution_count": 4,
   "id": "c80965f2-5156-47d4-8c65-0aa7b981b979",
   "metadata": {},
   "outputs": [
    {
     "name": "stdout",
     "output_type": "stream",
     "text": [
      "<class 'pandas.core.frame.DataFrame'>\n",
      "RangeIndex: 8237 entries, 0 to 8236\n",
      "Data columns (total 17 columns):\n",
      " #   Column       Non-Null Count  Dtype  \n",
      "---  ------       --------------  -----  \n",
      " 0   Unnamed: 0   8237 non-null   int64  \n",
      " 1   age          8237 non-null   int64  \n",
      " 2   job          8227 non-null   object \n",
      " 3   marital      8237 non-null   object \n",
      " 4   education    8237 non-null   object \n",
      " 5   default      8237 non-null   object \n",
      " 6   housing      8237 non-null   object \n",
      " 7   loan         8237 non-null   object \n",
      " 8   contact      8237 non-null   object \n",
      " 9   month        8237 non-null   object \n",
      " 10  day_of_week  8237 non-null   object \n",
      " 11  duration     8222 non-null   float64\n",
      " 12  campaign     8237 non-null   int64  \n",
      " 13  pdays        8237 non-null   int64  \n",
      " 14  previous     8237 non-null   int64  \n",
      " 15  poutcome     8237 non-null   object \n",
      " 16  y            8237 non-null   object \n",
      "dtypes: float64(1), int64(5), object(11)\n",
      "memory usage: 1.1+ MB\n"
     ]
    }
   ],
   "source": [
    "df.info()"
   ]
  },
  {
   "cell_type": "markdown",
   "id": "befd07b7-4699-410c-a2a4-98223c1db6a0",
   "metadata": {},
   "source": [
    "## **cek & handle duplicated value**"
   ]
  },
  {
   "cell_type": "code",
   "execution_count": 5,
   "id": "97519d18-3b08-429c-934e-cc89f76e7b5b",
   "metadata": {},
   "outputs": [
    {
     "data": {
      "text/plain": [
       "0"
      ]
     },
     "execution_count": 5,
     "metadata": {},
     "output_type": "execute_result"
    }
   ],
   "source": [
    "df.duplicated().sum()"
   ]
  },
  {
   "cell_type": "markdown",
   "id": "729f871f-3b0b-441f-b587-cb2da56b381b",
   "metadata": {},
   "source": [
    "tidak ada duplicated value"
   ]
  },
  {
   "cell_type": "markdown",
   "id": "b01406c1-2aeb-422b-b438-0387cbc704bf",
   "metadata": {},
   "source": [
    "## **handle missing values**"
   ]
  },
  {
   "cell_type": "code",
   "execution_count": 6,
   "id": "32d8be44-9193-45e7-b9e6-a9059324552a",
   "metadata": {},
   "outputs": [
    {
     "data": {
      "text/plain": [
       "Unnamed: 0      0\n",
       "age             0\n",
       "job            10\n",
       "marital         0\n",
       "education       0\n",
       "default         0\n",
       "housing         0\n",
       "loan            0\n",
       "contact         0\n",
       "month           0\n",
       "day_of_week     0\n",
       "duration       15\n",
       "campaign        0\n",
       "pdays           0\n",
       "previous        0\n",
       "poutcome        0\n",
       "y               0\n",
       "dtype: int64"
      ]
     },
     "execution_count": 6,
     "metadata": {},
     "output_type": "execute_result"
    }
   ],
   "source": [
    "df.isna().sum()"
   ]
  },
  {
   "cell_type": "markdown",
   "id": "be6eaf9a-2ab8-432d-b1ba-150c814bcea3",
   "metadata": {},
   "source": [
    "### **cek tipe data dan unique val missing value**"
   ]
  },
  {
   "cell_type": "code",
   "execution_count": 7,
   "id": "c5a70bf2-09ee-4b75-8625-3143fbaaadc5",
   "metadata": {},
   "outputs": [
    {
     "name": "stdout",
     "output_type": "stream",
     "text": [
      "<class 'pandas.core.frame.DataFrame'>\n",
      "RangeIndex: 8237 entries, 0 to 8236\n",
      "Data columns (total 17 columns):\n",
      " #   Column       Non-Null Count  Dtype  \n",
      "---  ------       --------------  -----  \n",
      " 0   Unnamed: 0   8237 non-null   int64  \n",
      " 1   age          8237 non-null   int64  \n",
      " 2   job          8227 non-null   object \n",
      " 3   marital      8237 non-null   object \n",
      " 4   education    8237 non-null   object \n",
      " 5   default      8237 non-null   object \n",
      " 6   housing      8237 non-null   object \n",
      " 7   loan         8237 non-null   object \n",
      " 8   contact      8237 non-null   object \n",
      " 9   month        8237 non-null   object \n",
      " 10  day_of_week  8237 non-null   object \n",
      " 11  duration     8222 non-null   float64\n",
      " 12  campaign     8237 non-null   int64  \n",
      " 13  pdays        8237 non-null   int64  \n",
      " 14  previous     8237 non-null   int64  \n",
      " 15  poutcome     8237 non-null   object \n",
      " 16  y            8237 non-null   object \n",
      "dtypes: float64(1), int64(5), object(11)\n",
      "memory usage: 1.1+ MB\n"
     ]
    }
   ],
   "source": [
    "df.info()"
   ]
  },
  {
   "cell_type": "code",
   "execution_count": 8,
   "id": "93ad1a57-ae3e-4a9f-a8bb-2154c291dbb5",
   "metadata": {},
   "outputs": [
    {
     "data": {
      "text/plain": [
       "array(['technician', 'admin.', 'blue-collar', 'services', 'entrepreneur',\n",
       "       'self-employed', 'unemployed', 'retired', 'management', 'student',\n",
       "       'unknown', 'housemaid', nan], dtype=object)"
      ]
     },
     "execution_count": 8,
     "metadata": {},
     "output_type": "execute_result"
    }
   ],
   "source": [
    "df['job'].unique()"
   ]
  },
  {
   "cell_type": "code",
   "execution_count": 9,
   "id": "7a039e99-b691-4e27-b264-b5ba2f7a632b",
   "metadata": {},
   "outputs": [
    {
     "data": {
      "text/plain": [
       "job\n",
       "admin.           2046\n",
       "blue-collar      1860\n",
       "technician       1375\n",
       "services          777\n",
       "management        625\n",
       "retired           339\n",
       "self-employed     293\n",
       "entrepreneur      279\n",
       "unemployed        201\n",
       "housemaid         188\n",
       "student           181\n",
       "unknown            63\n",
       "Name: count, dtype: int64"
      ]
     },
     "execution_count": 9,
     "metadata": {},
     "output_type": "execute_result"
    }
   ],
   "source": [
    "df['job'].value_counts()"
   ]
  },
  {
   "cell_type": "code",
   "execution_count": 10,
   "id": "daeda085-e0e6-424d-868a-55e9e004f29f",
   "metadata": {},
   "outputs": [
    {
     "data": {
      "text/plain": [
       "260.1893699829725"
      ]
     },
     "execution_count": 10,
     "metadata": {},
     "output_type": "execute_result"
    }
   ],
   "source": [
    "np.mean(df['duration'])"
   ]
  },
  {
   "cell_type": "markdown",
   "id": "f739f86c-cae0-4fde-ac09-1c46bbb2ab12",
   "metadata": {},
   "source": [
    "### **handle missing values**"
   ]
  },
  {
   "cell_type": "code",
   "execution_count": 11,
   "id": "456e0ec0-a382-419d-a7eb-ae3ff3251dd2",
   "metadata": {},
   "outputs": [],
   "source": [
    "#untuk handle df['job'], isi dengan df['job'] = unknown\n",
    "\n",
    "df['job'].fillna('unknown', inplace=True)"
   ]
  },
  {
   "cell_type": "code",
   "execution_count": 12,
   "id": "ca44529d-425a-429c-a6c3-6036e0f56dfe",
   "metadata": {},
   "outputs": [],
   "source": [
    "#untuk handle df['duration'], isi dengan nilai rata2\n",
    "\n",
    "df['duration'].fillna(np.mean(df['duration']), inplace=True)"
   ]
  },
  {
   "cell_type": "markdown",
   "id": "9628550d-9e33-4d93-9af5-0d28284bb4dd",
   "metadata": {},
   "source": [
    "### **cek kembali hasil kerja**"
   ]
  },
  {
   "cell_type": "code",
   "execution_count": 13,
   "id": "2c154599-2eb8-4978-9d85-a996da603650",
   "metadata": {},
   "outputs": [
    {
     "data": {
      "text/plain": [
       "Unnamed: 0     0\n",
       "age            0\n",
       "job            0\n",
       "marital        0\n",
       "education      0\n",
       "default        0\n",
       "housing        0\n",
       "loan           0\n",
       "contact        0\n",
       "month          0\n",
       "day_of_week    0\n",
       "duration       0\n",
       "campaign       0\n",
       "pdays          0\n",
       "previous       0\n",
       "poutcome       0\n",
       "y              0\n",
       "dtype: int64"
      ]
     },
     "execution_count": 13,
     "metadata": {},
     "output_type": "execute_result"
    }
   ],
   "source": [
    "df.isna().sum()"
   ]
  },
  {
   "cell_type": "markdown",
   "id": "b0ff74eb-a87e-4fe4-9413-962d8a9591c0",
   "metadata": {},
   "source": [
    "## **buang kolom yang ga berpengaruh**"
   ]
  },
  {
   "cell_type": "code",
   "execution_count": 14,
   "id": "b4f6a264-38e4-4ba5-b988-4f7bb9188077",
   "metadata": {},
   "outputs": [],
   "source": [
    "#kita akan drop column yang ga terlalu guna untuk fungsi prediksi\n",
    "\n",
    "unless = ['Unnamed: 0', 'month', 'day_of_week']\n",
    "df.drop(columns=unless, inplace=True)"
   ]
  },
  {
   "cell_type": "code",
   "execution_count": 15,
   "id": "13b83518-7eab-42ec-a8ee-361f25f4a18f",
   "metadata": {},
   "outputs": [
    {
     "name": "stdout",
     "output_type": "stream",
     "text": [
      "<class 'pandas.core.frame.DataFrame'>\n",
      "RangeIndex: 8237 entries, 0 to 8236\n",
      "Data columns (total 14 columns):\n",
      " #   Column     Non-Null Count  Dtype  \n",
      "---  ------     --------------  -----  \n",
      " 0   age        8237 non-null   int64  \n",
      " 1   job        8237 non-null   object \n",
      " 2   marital    8237 non-null   object \n",
      " 3   education  8237 non-null   object \n",
      " 4   default    8237 non-null   object \n",
      " 5   housing    8237 non-null   object \n",
      " 6   loan       8237 non-null   object \n",
      " 7   contact    8237 non-null   object \n",
      " 8   duration   8237 non-null   float64\n",
      " 9   campaign   8237 non-null   int64  \n",
      " 10  pdays      8237 non-null   int64  \n",
      " 11  previous   8237 non-null   int64  \n",
      " 12  poutcome   8237 non-null   object \n",
      " 13  y          8237 non-null   object \n",
      "dtypes: float64(1), int64(4), object(9)\n",
      "memory usage: 901.0+ KB\n"
     ]
    }
   ],
   "source": [
    "df.info()"
   ]
  },
  {
   "cell_type": "markdown",
   "id": "8fef0ffd-b60d-4dcc-b9c1-7396b7f2d264",
   "metadata": {},
   "source": [
    "## **informasi kolom kategorikal dan numerik**"
   ]
  },
  {
   "cell_type": "code",
   "execution_count": 16,
   "id": "e3b32f97-9dd1-4cb6-8123-7606eda939f1",
   "metadata": {},
   "outputs": [],
   "source": [
    "numeric = []\n",
    "categorical = []\n",
    "\n",
    "for i in df.columns:\n",
    "  if df[i].dtypes != object:\n",
    "    numeric.append(i)\n",
    "  else:\n",
    "    categorical.append(i)\n",
    "\n",
    "num_df = df[numeric]\n",
    "cat_df = df[categorical]"
   ]
  },
  {
   "cell_type": "code",
   "execution_count": 17,
   "id": "22355a3e-f110-465b-b5ac-fae339d1d7ef",
   "metadata": {},
   "outputs": [
    {
     "data": {
      "text/html": [
       "<div>\n",
       "<style scoped>\n",
       "    .dataframe tbody tr th:only-of-type {\n",
       "        vertical-align: middle;\n",
       "    }\n",
       "\n",
       "    .dataframe tbody tr th {\n",
       "        vertical-align: top;\n",
       "    }\n",
       "\n",
       "    .dataframe thead th {\n",
       "        text-align: right;\n",
       "    }\n",
       "</style>\n",
       "<table border=\"1\" class=\"dataframe\">\n",
       "  <thead>\n",
       "    <tr style=\"text-align: right;\">\n",
       "      <th></th>\n",
       "      <th>age</th>\n",
       "      <th>duration</th>\n",
       "      <th>campaign</th>\n",
       "      <th>pdays</th>\n",
       "      <th>previous</th>\n",
       "    </tr>\n",
       "  </thead>\n",
       "  <tbody>\n",
       "    <tr>\n",
       "      <th>count</th>\n",
       "      <td>8237.000000</td>\n",
       "      <td>8237.000000</td>\n",
       "      <td>8237.000000</td>\n",
       "      <td>8237.000000</td>\n",
       "      <td>8237.000000</td>\n",
       "    </tr>\n",
       "    <tr>\n",
       "      <th>mean</th>\n",
       "      <td>40.000486</td>\n",
       "      <td>260.189370</td>\n",
       "      <td>2.555299</td>\n",
       "      <td>962.352434</td>\n",
       "      <td>0.172393</td>\n",
       "    </tr>\n",
       "    <tr>\n",
       "      <th>std</th>\n",
       "      <td>10.331078</td>\n",
       "      <td>254.710569</td>\n",
       "      <td>2.663180</td>\n",
       "      <td>187.221927</td>\n",
       "      <td>0.481973</td>\n",
       "    </tr>\n",
       "    <tr>\n",
       "      <th>min</th>\n",
       "      <td>17.000000</td>\n",
       "      <td>0.000000</td>\n",
       "      <td>1.000000</td>\n",
       "      <td>0.000000</td>\n",
       "      <td>0.000000</td>\n",
       "    </tr>\n",
       "    <tr>\n",
       "      <th>25%</th>\n",
       "      <td>32.000000</td>\n",
       "      <td>104.000000</td>\n",
       "      <td>1.000000</td>\n",
       "      <td>999.000000</td>\n",
       "      <td>0.000000</td>\n",
       "    </tr>\n",
       "    <tr>\n",
       "      <th>50%</th>\n",
       "      <td>38.000000</td>\n",
       "      <td>184.000000</td>\n",
       "      <td>2.000000</td>\n",
       "      <td>999.000000</td>\n",
       "      <td>0.000000</td>\n",
       "    </tr>\n",
       "    <tr>\n",
       "      <th>75%</th>\n",
       "      <td>47.000000</td>\n",
       "      <td>324.000000</td>\n",
       "      <td>3.000000</td>\n",
       "      <td>999.000000</td>\n",
       "      <td>0.000000</td>\n",
       "    </tr>\n",
       "    <tr>\n",
       "      <th>max</th>\n",
       "      <td>98.000000</td>\n",
       "      <td>3284.000000</td>\n",
       "      <td>43.000000</td>\n",
       "      <td>999.000000</td>\n",
       "      <td>6.000000</td>\n",
       "    </tr>\n",
       "  </tbody>\n",
       "</table>\n",
       "</div>"
      ],
      "text/plain": [
       "               age     duration     campaign        pdays     previous\n",
       "count  8237.000000  8237.000000  8237.000000  8237.000000  8237.000000\n",
       "mean     40.000486   260.189370     2.555299   962.352434     0.172393\n",
       "std      10.331078   254.710569     2.663180   187.221927     0.481973\n",
       "min      17.000000     0.000000     1.000000     0.000000     0.000000\n",
       "25%      32.000000   104.000000     1.000000   999.000000     0.000000\n",
       "50%      38.000000   184.000000     2.000000   999.000000     0.000000\n",
       "75%      47.000000   324.000000     3.000000   999.000000     0.000000\n",
       "max      98.000000  3284.000000    43.000000   999.000000     6.000000"
      ]
     },
     "execution_count": 17,
     "metadata": {},
     "output_type": "execute_result"
    }
   ],
   "source": [
    "#informasi kolom numerik\n",
    "\n",
    "num_df.describe()"
   ]
  },
  {
   "cell_type": "code",
   "execution_count": 50,
   "id": "edc04025-1414-4c3d-b36d-035dd4bb43d4",
   "metadata": {},
   "outputs": [
    {
     "name": "stdout",
     "output_type": "stream",
     "text": [
      "job\n",
      "admin.           2046\n",
      "blue-collar      1860\n",
      "technician       1375\n",
      "services          777\n",
      "management        625\n",
      "retired           339\n",
      "self-employed     293\n",
      "entrepreneur      279\n",
      "unemployed        201\n",
      "housemaid         188\n",
      "student           181\n",
      "unknown            73\n",
      "Name: count, dtype: int64\n",
      "\n",
      "marital\n",
      "married     4943\n",
      "single      2345\n",
      "divorced     936\n",
      "unknown       13\n",
      "Name: count, dtype: int64\n",
      "\n",
      "education\n",
      "university.degree      2456\n",
      "high.school            1902\n",
      "basic.9y               1157\n",
      "professional.course    1070\n",
      "basic.4y                862\n",
      "basic.6y                456\n",
      "unknown                 328\n",
      "illiterate                6\n",
      "Name: count, dtype: int64\n",
      "\n",
      "default\n",
      "no         6533\n",
      "unknown    1701\n",
      "yes           3\n",
      "Name: count, dtype: int64\n",
      "\n",
      "housing\n",
      "yes        4308\n",
      "no         3730\n",
      "unknown     199\n",
      "Name: count, dtype: int64\n",
      "\n",
      "loan\n",
      "no         6890\n",
      "yes        1148\n",
      "unknown     199\n",
      "Name: count, dtype: int64\n",
      "\n",
      "contact\n",
      "cellular     5253\n",
      "telephone    2984\n",
      "Name: count, dtype: int64\n",
      "\n",
      "poutcome\n",
      "nonexistent    7087\n",
      "failure         876\n",
      "success         274\n",
      "Name: count, dtype: int64\n",
      "\n",
      "y\n",
      "no     7303\n",
      "yes     934\n",
      "Name: count, dtype: int64\n",
      "\n"
     ]
    }
   ],
   "source": [
    "#informasi kolom kategorikal\n",
    "\n",
    "for i in cat_df.columns:\n",
    "  print(cat_df[i].value_counts())\n",
    "  print()"
   ]
  },
  {
   "cell_type": "markdown",
   "id": "021789b2-4920-479a-94ad-557672faa17f",
   "metadata": {},
   "source": [
    "### **visualisasi informasi (buat numerikal aja)**"
   ]
  },
  {
   "cell_type": "code",
   "execution_count": 19,
   "id": "f0f170c1-67bc-4bd4-88e2-977ef7a99dc1",
   "metadata": {},
   "outputs": [
    {
     "data": {
      "image/png": "[encoded data removed]",
      "text/plain": [
       "<Figure size 400x300 with 1 Axes>"
      ]
     },
     "metadata": {},
     "output_type": "display_data"
    },
    {
     "data": {
      "image/png": "[encoded data removed]",
      "text/plain": [
       "<Figure size 400x300 with 1 Axes>"
      ]
     },
     "metadata": {},
     "output_type": "display_data"
    },
    {
     "data": {
      "image/png": "[encoded data removed]",
      "text/plain": [
       "<Figure size 400x300 with 1 Axes>"
      ]
     },
     "metadata": {},
     "output_type": "display_data"
    },
    {
     "data": {
      "image/png": "[encoded data removed]",
      "text/plain": [
       "<Figure size 400x300 with 1 Axes>"
      ]
     },
     "metadata": {},
     "output_type": "display_data"
    },
    {
     "data": {
      "image/png": "[encoded data removed]",
      "text/plain": [
       "<Figure size 400x300 with 1 Axes>"
      ]
     },
     "metadata": {},
     "output_type": "display_data"
    }
   ],
   "source": [
    "import seaborn as sns\n",
    "\n",
    "for col in num_df.columns:\n",
    "    plt.figure(figsize=(4, 3))  # Memperbesar gambar\n",
    "    sns.histplot(num_df[col], bins=10, alpha=0.7, kde=True, color='skyblue', edgecolor='black')\n",
    "    plt.title(f'Histogram of {col}')\n",
    "    plt.xlabel(col)\n",
    "    plt.ylabel('Frequency')\n",
    "    plt.grid(axis='x', alpha=0.75)\n",
    "    plt.show()"
   ]
  },
  {
   "cell_type": "markdown",
   "id": "645d833a-c54d-4d00-8dc0-93a0a161895f",
   "metadata": {},
   "source": [
    "## **encoding (untuk data kategorikal)**"
   ]
  },
  {
   "cell_type": "code",
   "execution_count": 20,
   "id": "bf5b0941-0ffd-4685-ba1b-39c8ac649d8e",
   "metadata": {},
   "outputs": [
    {
     "name": "stdout",
     "output_type": "stream",
     "text": [
      "<class 'pandas.core.frame.DataFrame'>\n",
      "RangeIndex: 8237 entries, 0 to 8236\n",
      "Data columns (total 14 columns):\n",
      " #   Column     Non-Null Count  Dtype  \n",
      "---  ------     --------------  -----  \n",
      " 0   age        8237 non-null   int64  \n",
      " 1   job        8237 non-null   object \n",
      " 2   marital    8237 non-null   object \n",
      " 3   education  8237 non-null   object \n",
      " 4   default    8237 non-null   object \n",
      " 5   housing    8237 non-null   object \n",
      " 6   loan       8237 non-null   object \n",
      " 7   contact    8237 non-null   object \n",
      " 8   duration   8237 non-null   float64\n",
      " 9   campaign   8237 non-null   int64  \n",
      " 10  pdays      8237 non-null   int64  \n",
      " 11  previous   8237 non-null   int64  \n",
      " 12  poutcome   8237 non-null   object \n",
      " 13  y          8237 non-null   object \n",
      "dtypes: float64(1), int64(4), object(9)\n",
      "memory usage: 901.0+ KB\n"
     ]
    }
   ],
   "source": [
    "df.info()"
   ]
  },
  {
   "cell_type": "code",
   "execution_count": 21,
   "id": "7a2c4246-003e-4387-bb00-f07a335b56dc",
   "metadata": {},
   "outputs": [
    {
     "data": {
      "text/plain": [
       "Index(['job', 'marital', 'education', 'default', 'housing', 'loan', 'contact',\n",
       "       'poutcome', 'y'],\n",
       "      dtype='object')"
      ]
     },
     "execution_count": 21,
     "metadata": {},
     "output_type": "execute_result"
    }
   ],
   "source": [
    "cat_df.columns"
   ]
  },
  {
   "cell_type": "code",
   "execution_count": 22,
   "id": "e1f0bd8a-0de0-4a74-9912-fa830d7b47b4",
   "metadata": {},
   "outputs": [],
   "source": [
    "#pakai label encoding\n",
    "\n",
    "label_encoding = LabelEncoder()\n",
    "df['job'] = label_encoding.fit_transform(df['job'])\n",
    "df['marital'] = label_encoding.fit_transform(df['marital'])\n",
    "df['education'] = label_encoding.fit_transform(df['education'])\n",
    "df['default'] = label_encoding.fit_transform(df['default'])\n",
    "df['housing'] = label_encoding.fit_transform(df['housing'])\n",
    "df['loan'] = label_encoding.fit_transform(df['loan'])\n",
    "df['contact'] = label_encoding.fit_transform(df['contact'])\n",
    "df['poutcome'] = label_encoding.fit_transform(df['poutcome'])"
   ]
  },
  {
   "cell_type": "markdown",
   "id": "c287563b-d605-455c-a3fd-2a38d870a32f",
   "metadata": {},
   "source": [
    "## **pisahkan train dan test**"
   ]
  },
  {
   "cell_type": "code",
   "execution_count": 23,
   "id": "d0c524c7-6297-4176-ac7f-9170b47d88e0",
   "metadata": {},
   "outputs": [
    {
     "name": "stdout",
     "output_type": "stream",
     "text": [
      "<class 'pandas.core.frame.DataFrame'>\n",
      "RangeIndex: 8237 entries, 0 to 8236\n",
      "Data columns (total 14 columns):\n",
      " #   Column     Non-Null Count  Dtype  \n",
      "---  ------     --------------  -----  \n",
      " 0   age        8237 non-null   int64  \n",
      " 1   job        8237 non-null   int32  \n",
      " 2   marital    8237 non-null   int32  \n",
      " 3   education  8237 non-null   int32  \n",
      " 4   default    8237 non-null   int32  \n",
      " 5   housing    8237 non-null   int32  \n",
      " 6   loan       8237 non-null   int32  \n",
      " 7   contact    8237 non-null   int32  \n",
      " 8   duration   8237 non-null   float64\n",
      " 9   campaign   8237 non-null   int64  \n",
      " 10  pdays      8237 non-null   int64  \n",
      " 11  previous   8237 non-null   int64  \n",
      " 12  poutcome   8237 non-null   int32  \n",
      " 13  y          8237 non-null   object \n",
      "dtypes: float64(1), int32(8), int64(4), object(1)\n",
      "memory usage: 643.6+ KB\n"
     ]
    }
   ],
   "source": [
    "#targetnya adalah y\n",
    "\n",
    "df.info()"
   ]
  },
  {
   "cell_type": "code",
   "execution_count": 24,
   "id": "6cc19fb3-b86e-4cf7-bf8c-4d9695919e75",
   "metadata": {},
   "outputs": [
    {
     "data": {
      "text/plain": [
       "y\n",
       "no     7303\n",
       "yes     934\n",
       "Name: count, dtype: int64"
      ]
     },
     "execution_count": 24,
     "metadata": {},
     "output_type": "execute_result"
    }
   ],
   "source": [
    "df['y'].value_counts()"
   ]
  },
  {
   "cell_type": "markdown",
   "id": "0a66d5bf-b0de-4d90-98a4-dd8e4d96bf1b",
   "metadata": {},
   "source": [
    "**encode si y**"
   ]
  },
  {
   "cell_type": "code",
   "execution_count": 25,
   "id": "0087d400-aa81-48ec-bf7a-fc96dcc1ad84",
   "metadata": {},
   "outputs": [],
   "source": [
    "label_encoding = LabelEncoder()\n",
    "df['y'] = label_encoding.fit_transform(df['y'])"
   ]
  },
  {
   "cell_type": "markdown",
   "id": "33107f07-cf27-404b-917c-261f98118d11",
   "metadata": {},
   "source": [
    "**pisahkan**"
   ]
  },
  {
   "cell_type": "code",
   "execution_count": 26,
   "id": "c1bf61c0-08f9-4814-92c0-ee48ccbff396",
   "metadata": {},
   "outputs": [],
   "source": [
    "X = df.drop(columns=['y'])  \n",
    "y = df['y']"
   ]
  },
  {
   "cell_type": "code",
   "execution_count": 27,
   "id": "9531b3bb-233a-4e6e-8c47-9055332d4f2d",
   "metadata": {},
   "outputs": [
    {
     "data": {
      "text/plain": [
       "0    0\n",
       "1    0\n",
       "Name: y, dtype: int32"
      ]
     },
     "execution_count": 27,
     "metadata": {},
     "output_type": "execute_result"
    }
   ],
   "source": [
    "y.head(2)"
   ]
  },
  {
   "cell_type": "code",
   "execution_count": 28,
   "id": "7331e45f-9c77-407f-a4ef-5f98e630095c",
   "metadata": {},
   "outputs": [
    {
     "data": {
      "text/plain": [
       "0    0\n",
       "1    0\n",
       "2    0\n",
       "3    0\n",
       "4    0\n",
       "Name: y, dtype: int32"
      ]
     },
     "execution_count": 28,
     "metadata": {},
     "output_type": "execute_result"
    }
   ],
   "source": [
    "y.head(5)"
   ]
  },
  {
   "cell_type": "code",
   "execution_count": 29,
   "id": "ba72dd72-0a06-47ee-b8c9-2865d31f34e0",
   "metadata": {},
   "outputs": [],
   "source": [
    "from sklearn.model_selection import train_test_split\n",
    "x_train, x_test, y_train, y_test = train_test_split(X, y, test_size = 0.2, random_state = 42)"
   ]
  },
  {
   "cell_type": "code",
   "execution_count": 30,
   "id": "4457b113-1ce0-4e4b-88e8-cab9d392b672",
   "metadata": {},
   "outputs": [
    {
     "name": "stdout",
     "output_type": "stream",
     "text": [
      "train data:  (6589, 13)\n",
      "test data:  (1648, 13)\n"
     ]
    }
   ],
   "source": [
    "print('train data: ', x_train.shape)\n",
    "print('test data: ', x_test.shape)"
   ]
  },
  {
   "cell_type": "markdown",
   "id": "fd27ff3c-7734-4066-b63a-5546d2654204",
   "metadata": {},
   "source": [
    "**do scaling data**"
   ]
  },
  {
   "cell_type": "code",
   "execution_count": 31,
   "id": "0f6845e5-eb8e-4799-a0fe-5c51ed3e1a21",
   "metadata": {},
   "outputs": [],
   "source": [
    "import pandas as pd\n",
    "from sklearn.preprocessing import StandardScaler\n",
    "\n",
    "# Feature scaling\n",
    "scaler = StandardScaler()\n",
    "x_train_scale = scaler.fit_transform(x_train)\n",
    "x_test_scale = scaler.transform(x_test)"
   ]
  },
  {
   "cell_type": "markdown",
   "id": "9f65562e-2d30-45f8-b50d-a4eea6340132",
   "metadata": {},
   "source": [
    "## **random forest**"
   ]
  },
  {
   "cell_type": "code",
   "execution_count": 32,
   "id": "138e35cf-33b6-4846-9a79-d2de0cc95d12",
   "metadata": {},
   "outputs": [
    {
     "data": {
      "text/plain": [
       "Index(['age', 'job', 'marital', 'education', 'default', 'housing', 'loan',\n",
       "       'contact', 'duration', 'campaign', 'pdays', 'previous', 'poutcome'],\n",
       "      dtype='object')"
      ]
     },
     "execution_count": 32,
     "metadata": {},
     "output_type": "execute_result"
    }
   ],
   "source": [
    "x_train.columns"
   ]
  },
  {
   "cell_type": "code",
   "execution_count": 33,
   "id": "a93b9493-486c-4928-b06a-a736318c3242",
   "metadata": {},
   "outputs": [],
   "source": [
    "from sklearn import set_config\n",
    "set_config(print_changed_only = False)"
   ]
  },
  {
   "cell_type": "code",
   "execution_count": 34,
   "id": "17079b75-ee09-40c3-af06-6e317ab913ba",
   "metadata": {},
   "outputs": [
    {
     "data": {
      "text/html": [
       "<style>#sk-container-id-1 {color: black;background-color: white;}#sk-container-id-1 pre{padding: 0;}#sk-container-id-1 div.sk-toggleable {background-color: white;}#sk-container-id-1 label.sk-toggleable__label {cursor: pointer;display: block;width: 100%;margin-bottom: 0;padding: 0.3em;box-sizing: border-box;text-align: center;}#sk-container-id-1 label.sk-toggleable__label-arrow:before {content: \"▸\";float: left;margin-right: 0.25em;color: #696969;}#sk-container-id-1 label.sk-toggleable__label-arrow:hover:before {color: black;}#sk-container-id-1 div.sk-estimator:hover label.sk-toggleable__label-arrow:before {color: black;}#sk-container-id-1 div.sk-toggleable__content {max-height: 0;max-width: 0;overflow: hidden;text-align: left;background-color: #f0f8ff;}#sk-container-id-1 div.sk-toggleable__content pre {margin: 0.2em;color: black;border-radius: 0.25em;background-color: #f0f8ff;}#sk-container-id-1 input.sk-toggleable__control:checked~div.sk-toggleable__content {max-height: 200px;max-width: 100%;overflow: auto;}#sk-container-id-1 input.sk-toggleable__control:checked~label.sk-toggleable__label-arrow:before {content: \"▾\";}#sk-container-id-1 div.sk-estimator input.sk-toggleable__control:checked~label.sk-toggleable__label {background-color: #d4ebff;}#sk-container-id-1 div.sk-label input.sk-toggleable__control:checked~label.sk-toggleable__label {background-color: #d4ebff;}#sk-container-id-1 input.sk-hidden--visually {border: 0;clip: rect(1px 1px 1px 1px);clip: rect(1px, 1px, 1px, 1px);height: 1px;margin: -1px;overflow: hidden;padding: 0;position: absolute;width: 1px;}#sk-container-id-1 div.sk-estimator {font-family: monospace;background-color: #f0f8ff;border: 1px dotted black;border-radius: 0.25em;box-sizing: border-box;margin-bottom: 0.5em;}#sk-container-id-1 div.sk-estimator:hover {background-color: #d4ebff;}#sk-container-id-1 div.sk-parallel-item::after {content: \"\";width: 100%;border-bottom: 1px solid gray;flex-grow: 1;}#sk-container-id-1 div.sk-label:hover label.sk-toggleable__label {background-color: #d4ebff;}#sk-container-id-1 div.sk-serial::before {content: \"\";position: absolute;border-left: 1px solid gray;box-sizing: border-box;top: 0;bottom: 0;left: 50%;z-index: 0;}#sk-container-id-1 div.sk-serial {display: flex;flex-direction: column;align-items: center;background-color: white;padding-right: 0.2em;padding-left: 0.2em;position: relative;}#sk-container-id-1 div.sk-item {position: relative;z-index: 1;}#sk-container-id-1 div.sk-parallel {display: flex;align-items: stretch;justify-content: center;background-color: white;position: relative;}#sk-container-id-1 div.sk-item::before, #sk-container-id-1 div.sk-parallel-item::before {content: \"\";position: absolute;border-left: 1px solid gray;box-sizing: border-box;top: 0;bottom: 0;left: 50%;z-index: -1;}#sk-container-id-1 div.sk-parallel-item {display: flex;flex-direction: column;z-index: 1;position: relative;background-color: white;}#sk-container-id-1 div.sk-parallel-item:first-child::after {align-self: flex-end;width: 50%;}#sk-container-id-1 div.sk-parallel-item:last-child::after {align-self: flex-start;width: 50%;}#sk-container-id-1 div.sk-parallel-item:only-child::after {width: 0;}#sk-container-id-1 div.sk-dashed-wrapped {border: 1px dashed gray;margin: 0 0.4em 0.5em 0.4em;box-sizing: border-box;padding-bottom: 0.4em;background-color: white;}#sk-container-id-1 div.sk-label label {font-family: monospace;font-weight: bold;display: inline-block;line-height: 1.2em;}#sk-container-id-1 div.sk-label-container {text-align: center;}#sk-container-id-1 div.sk-container {/* jupyter's `normalize.less` sets `[hidden] { display: none; }` but bootstrap.min.css set `[hidden] { display: none !important; }` so we also need the `!important` here to be able to override the default hidden behavior on the sphinx rendered scikit-learn.org. See: https://github.com/scikit-learn/scikit-learn/issues/21755 */display: inline-block !important;position: relative;}#sk-container-id-1 div.sk-text-repr-fallback {display: none;}</style><div id=\"sk-container-id-1\" class=\"sk-top-container\"><div class=\"sk-text-repr-fallback\"><pre>RandomForestClassifier(bootstrap=True, ccp_alpha=0.0, class_weight=None,\n",
       "                       criterion=&#x27;gini&#x27;, max_depth=4, max_features=&#x27;sqrt&#x27;,\n",
       "                       max_leaf_nodes=None, max_samples=None,\n",
       "                       min_impurity_decrease=0.0, min_samples_leaf=1,\n",
       "                       min_samples_split=2, min_weight_fraction_leaf=0.0,\n",
       "                       n_estimators=100, n_jobs=None, oob_score=False,\n",
       "                       random_state=None, verbose=0, warm_start=False)</pre><b>In a Jupyter environment, please rerun this cell to show the HTML representation or trust the notebook. <br />On GitHub, the HTML representation is unable to render, please try loading this page with nbviewer.org.</b></div><div class=\"sk-container\" hidden><div class=\"sk-item\"><div class=\"sk-estimator sk-toggleable\"><input class=\"sk-toggleable__control sk-hidden--visually\" id=\"sk-estimator-id-1\" type=\"checkbox\" checked><label for=\"sk-estimator-id-1\" class=\"sk-toggleable__label sk-toggleable__label-arrow\">RandomForestClassifier</label><div class=\"sk-toggleable__content\"><pre>RandomForestClassifier(bootstrap=True, ccp_alpha=0.0, class_weight=None,\n",
       "                       criterion=&#x27;gini&#x27;, max_depth=4, max_features=&#x27;sqrt&#x27;,\n",
       "                       max_leaf_nodes=None, max_samples=None,\n",
       "                       min_impurity_decrease=0.0, min_samples_leaf=1,\n",
       "                       min_samples_split=2, min_weight_fraction_leaf=0.0,\n",
       "                       n_estimators=100, n_jobs=None, oob_score=False,\n",
       "                       random_state=None, verbose=0, warm_start=False)</pre></div></div></div></div></div>"
      ],
      "text/plain": [
       "RandomForestClassifier(bootstrap=True, ccp_alpha=0.0, class_weight=None,\n",
       "                       criterion='gini', max_depth=4, max_features='sqrt',\n",
       "                       max_leaf_nodes=None, max_samples=None,\n",
       "                       min_impurity_decrease=0.0, min_samples_leaf=1,\n",
       "                       min_samples_split=2, min_weight_fraction_leaf=0.0,\n",
       "                       n_estimators=100, n_jobs=None, oob_score=False,\n",
       "                       random_state=None, verbose=0, warm_start=False)"
      ]
     },
     "execution_count": 34,
     "metadata": {},
     "output_type": "execute_result"
    }
   ],
   "source": [
    "from sklearn.ensemble import RandomForestClassifier\n",
    "import warnings\n",
    "warnings.filterwarnings('ignore')\n",
    "\n",
    "RF_class = RandomForestClassifier(criterion= 'gini',max_depth=4)\n",
    "RF_class.fit(x_train_scale, y_train)"
   ]
  },
  {
   "cell_type": "code",
   "execution_count": 35,
   "id": "e4ecdddd-466b-4c7c-acba-81971cef3822",
   "metadata": {},
   "outputs": [],
   "source": [
    "y_RFpred = RF_class.predict(x_test_scale)"
   ]
  },
  {
   "cell_type": "code",
   "execution_count": 36,
   "id": "e8779bac-bd32-43c3-aaac-8d3b27d923a3",
   "metadata": {},
   "outputs": [
    {
     "name": "stdout",
     "output_type": "stream",
     "text": [
      "Classification Report\n",
      "Accuracy: 90.17%\n",
      "              precision    recall  f1-score   support\n",
      "\n",
      "           0       0.90      0.99      0.95      1464\n",
      "           1       0.78      0.17      0.28       184\n",
      "\n",
      "    accuracy                           0.90      1648\n",
      "   macro avg       0.84      0.58      0.61      1648\n",
      "weighted avg       0.89      0.90      0.87      1648\n",
      "\n"
     ]
    }
   ],
   "source": [
    "print('Classification Report')\n",
    "print(\"Accuracy: %.2f%%\"% (accuracy_score(y_test, y_RFpred) * 100))\n",
    "print(classification_report(y_test, y_RFpred))"
   ]
  },
  {
   "cell_type": "markdown",
   "id": "814894cf-2965-49e2-9ef5-12892c708fdd",
   "metadata": {},
   "source": [
    "## **SVM machine learning**"
   ]
  },
  {
   "cell_type": "code",
   "execution_count": 37,
   "id": "bf7e2d4c-3110-4e92-ab93-d608ad79522e",
   "metadata": {},
   "outputs": [
    {
     "data": {
      "text/plain": [
       "Index(['age', 'job', 'marital', 'education', 'default', 'housing', 'loan',\n",
       "       'contact', 'duration', 'campaign', 'pdays', 'previous', 'poutcome'],\n",
       "      dtype='object')"
      ]
     },
     "execution_count": 37,
     "metadata": {},
     "output_type": "execute_result"
    }
   ],
   "source": [
    "x_train.columns"
   ]
  },
  {
   "cell_type": "code",
   "execution_count": 38,
   "id": "e163a14b-fcd2-41fa-838a-e5e000a80d52",
   "metadata": {},
   "outputs": [],
   "source": [
    "from sklearn import set_config\n",
    "set_config(print_changed_only = False)"
   ]
  },
  {
   "cell_type": "code",
   "execution_count": 39,
   "id": "c9eece09-4178-4881-b432-9da4af4803c2",
   "metadata": {},
   "outputs": [
    {
     "data": {
      "text/html": [
       "<style>#sk-container-id-2 {color: black;background-color: white;}#sk-container-id-2 pre{padding: 0;}#sk-container-id-2 div.sk-toggleable {background-color: white;}#sk-container-id-2 label.sk-toggleable__label {cursor: pointer;display: block;width: 100%;margin-bottom: 0;padding: 0.3em;box-sizing: border-box;text-align: center;}#sk-container-id-2 label.sk-toggleable__label-arrow:before {content: \"▸\";float: left;margin-right: 0.25em;color: #696969;}#sk-container-id-2 label.sk-toggleable__label-arrow:hover:before {color: black;}#sk-container-id-2 div.sk-estimator:hover label.sk-toggleable__label-arrow:before {color: black;}#sk-container-id-2 div.sk-toggleable__content {max-height: 0;max-width: 0;overflow: hidden;text-align: left;background-color: #f0f8ff;}#sk-container-id-2 div.sk-toggleable__content pre {margin: 0.2em;color: black;border-radius: 0.25em;background-color: #f0f8ff;}#sk-container-id-2 input.sk-toggleable__control:checked~div.sk-toggleable__content {max-height: 200px;max-width: 100%;overflow: auto;}#sk-container-id-2 input.sk-toggleable__control:checked~label.sk-toggleable__label-arrow:before {content: \"▾\";}#sk-container-id-2 div.sk-estimator input.sk-toggleable__control:checked~label.sk-toggleable__label {background-color: #d4ebff;}#sk-container-id-2 div.sk-label input.sk-toggleable__control:checked~label.sk-toggleable__label {background-color: #d4ebff;}#sk-container-id-2 input.sk-hidden--visually {border: 0;clip: rect(1px 1px 1px 1px);clip: rect(1px, 1px, 1px, 1px);height: 1px;margin: -1px;overflow: hidden;padding: 0;position: absolute;width: 1px;}#sk-container-id-2 div.sk-estimator {font-family: monospace;background-color: #f0f8ff;border: 1px dotted black;border-radius: 0.25em;box-sizing: border-box;margin-bottom: 0.5em;}#sk-container-id-2 div.sk-estimator:hover {background-color: #d4ebff;}#sk-container-id-2 div.sk-parallel-item::after {content: \"\";width: 100%;border-bottom: 1px solid gray;flex-grow: 1;}#sk-container-id-2 div.sk-label:hover label.sk-toggleable__label {background-color: #d4ebff;}#sk-container-id-2 div.sk-serial::before {content: \"\";position: absolute;border-left: 1px solid gray;box-sizing: border-box;top: 0;bottom: 0;left: 50%;z-index: 0;}#sk-container-id-2 div.sk-serial {display: flex;flex-direction: column;align-items: center;background-color: white;padding-right: 0.2em;padding-left: 0.2em;position: relative;}#sk-container-id-2 div.sk-item {position: relative;z-index: 1;}#sk-container-id-2 div.sk-parallel {display: flex;align-items: stretch;justify-content: center;background-color: white;position: relative;}#sk-container-id-2 div.sk-item::before, #sk-container-id-2 div.sk-parallel-item::before {content: \"\";position: absolute;border-left: 1px solid gray;box-sizing: border-box;top: 0;bottom: 0;left: 50%;z-index: -1;}#sk-container-id-2 div.sk-parallel-item {display: flex;flex-direction: column;z-index: 1;position: relative;background-color: white;}#sk-container-id-2 div.sk-parallel-item:first-child::after {align-self: flex-end;width: 50%;}#sk-container-id-2 div.sk-parallel-item:last-child::after {align-self: flex-start;width: 50%;}#sk-container-id-2 div.sk-parallel-item:only-child::after {width: 0;}#sk-container-id-2 div.sk-dashed-wrapped {border: 1px dashed gray;margin: 0 0.4em 0.5em 0.4em;box-sizing: border-box;padding-bottom: 0.4em;background-color: white;}#sk-container-id-2 div.sk-label label {font-family: monospace;font-weight: bold;display: inline-block;line-height: 1.2em;}#sk-container-id-2 div.sk-label-container {text-align: center;}#sk-container-id-2 div.sk-container {/* jupyter's `normalize.less` sets `[hidden] { display: none; }` but bootstrap.min.css set `[hidden] { display: none !important; }` so we also need the `!important` here to be able to override the default hidden behavior on the sphinx rendered scikit-learn.org. See: https://github.com/scikit-learn/scikit-learn/issues/21755 */display: inline-block !important;position: relative;}#sk-container-id-2 div.sk-text-repr-fallback {display: none;}</style><div id=\"sk-container-id-2\" class=\"sk-top-container\"><div class=\"sk-text-repr-fallback\"><pre>SVC(C=1.0, break_ties=False, cache_size=200, class_weight=None, coef0=0.0,\n",
       "    decision_function_shape=&#x27;ovr&#x27;, degree=3, gamma=&#x27;scale&#x27;, kernel=&#x27;rbf&#x27;,\n",
       "    max_iter=-1, probability=True, random_state=42, shrinking=True, tol=0.001,\n",
       "    verbose=False)</pre><b>In a Jupyter environment, please rerun this cell to show the HTML representation or trust the notebook. <br />On GitHub, the HTML representation is unable to render, please try loading this page with nbviewer.org.</b></div><div class=\"sk-container\" hidden><div class=\"sk-item\"><div class=\"sk-estimator sk-toggleable\"><input class=\"sk-toggleable__control sk-hidden--visually\" id=\"sk-estimator-id-2\" type=\"checkbox\" checked><label for=\"sk-estimator-id-2\" class=\"sk-toggleable__label sk-toggleable__label-arrow\">SVC</label><div class=\"sk-toggleable__content\"><pre>SVC(C=1.0, break_ties=False, cache_size=200, class_weight=None, coef0=0.0,\n",
       "    decision_function_shape=&#x27;ovr&#x27;, degree=3, gamma=&#x27;scale&#x27;, kernel=&#x27;rbf&#x27;,\n",
       "    max_iter=-1, probability=True, random_state=42, shrinking=True, tol=0.001,\n",
       "    verbose=False)</pre></div></div></div></div></div>"
      ],
      "text/plain": [
       "SVC(C=1.0, break_ties=False, cache_size=200, class_weight=None, coef0=0.0,\n",
       "    decision_function_shape='ovr', degree=3, gamma='scale', kernel='rbf',\n",
       "    max_iter=-1, probability=True, random_state=42, shrinking=True, tol=0.001,\n",
       "    verbose=False)"
      ]
     },
     "execution_count": 39,
     "metadata": {},
     "output_type": "execute_result"
    }
   ],
   "source": [
    "from sklearn.svm import SVC\n",
    "import warnings\n",
    "warnings.filterwarnings('ignore')\n",
    "\n",
    "# Inisialisasi model SVM dengan kernel RBF\n",
    "SVMmodel_RBF = SVC(kernel='rbf', probability=True, random_state=42)\n",
    "SVMmodel_RBF.fit(x_train_scale, y_train)"
   ]
  },
  {
   "cell_type": "code",
   "execution_count": 40,
   "id": "ee4a3207-576d-408f-bab1-2d069504e1fe",
   "metadata": {},
   "outputs": [],
   "source": [
    "y_RBFpred = SVMmodel_RBF.predict(x_test_scale)"
   ]
  },
  {
   "cell_type": "code",
   "execution_count": 41,
   "id": "98d8da14-1de7-41a6-9cfc-46bc8079b7d7",
   "metadata": {},
   "outputs": [
    {
     "name": "stdout",
     "output_type": "stream",
     "text": [
      "Classification Report\n",
      "Accuracy: 89.81%\n",
      "              precision    recall  f1-score   support\n",
      "\n",
      "           0       0.91      0.98      0.94      1464\n",
      "           1       0.60      0.27      0.37       184\n",
      "\n",
      "    accuracy                           0.90      1648\n",
      "   macro avg       0.75      0.62      0.66      1648\n",
      "weighted avg       0.88      0.90      0.88      1648\n",
      "\n"
     ]
    }
   ],
   "source": [
    "print('Classification Report')\n",
    "print(\"Accuracy: %.2f%%\"% (accuracy_score(y_test, y_RBFpred) * 100))\n",
    "print(classification_report(y_test, y_RBFpred))"
   ]
  },
  {
   "cell_type": "markdown",
   "id": "50f35e50-4cad-49f7-ba94-ef9cfa769ad3",
   "metadata": {},
   "source": [
    "## **Final result for choosing PKA files**"
   ]
  },
  {
   "cell_type": "code",
   "execution_count": 42,
   "id": "48eff55e-1158-4010-af06-ae7aa374766d",
   "metadata": {},
   "outputs": [
    {
     "name": "stdout",
     "output_type": "stream",
     "text": [
      "perbandingan prediksi dari kedua model\n",
      "Random Forest Accuracy: 90.17%\n",
      "SVM with RBF kernel Accuracy: 89.81%\n"
     ]
    }
   ],
   "source": [
    "print(\"perbandingan prediksi dari kedua model\")\n",
    "print(\"Random Forest Accuracy: %.2f%%\"% (accuracy_score(y_test, y_RFpred) * 100)) # Random Forest accuracy\n",
    "print(\"SVM with RBF kernel Accuracy: %.2f%%\"% (accuracy_score(y_test, y_RBFpred) * 100)) # SVM with RBF kernel accuracy"
   ]
  },
  {
   "cell_type": "markdown",
   "id": "596fb63e-1b34-4f08-91f5-7ee5aa5791b6",
   "metadata": {},
   "source": [
    "berdasarkan perbandingan tersebut, tampak random forest memiliki hasil yang lebih besar jika dibandingkan dengan SVM dengan RBF kernel. maka dari itu, kita akan membuat PKA untuk model deploy dari model random forest"
   ]
  },
  {
   "cell_type": "code",
   "execution_count": 47,
   "id": "a94432f8-369e-4318-92ce-e9b8c7eff41d",
   "metadata": {},
   "outputs": [],
   "source": [
    "model = 'bestModz_RandomForest.pkl'\n",
    "pkl.dump(RF_class, open(model, 'wb'))\n",
    "\n",
    "scalerPKL = 'scaling.pkl'\n",
    "pkl.dump(scaler, open(scalerPKL, 'wb'))\n",
    "\n",
    "labelEncodePKL = 'label_encoding.pkl'\n",
    "pkl.dump(label_encoding, open(labelEncodePKL, 'wb'))"
   ]
  },
  {
   "cell_type": "code",
   "execution_count": 48,
   "id": "0af94a64-7a94-4c6a-b32f-62386fcfbc80",
   "metadata": {},
   "outputs": [
    {
     "data": {
      "text/html": [
       "<div>\n",
       "<style scoped>\n",
       "    .dataframe tbody tr th:only-of-type {\n",
       "        vertical-align: middle;\n",
       "    }\n",
       "\n",
       "    .dataframe tbody tr th {\n",
       "        vertical-align: top;\n",
       "    }\n",
       "\n",
       "    .dataframe thead th {\n",
       "        text-align: right;\n",
       "    }\n",
       "</style>\n",
       "<table border=\"1\" class=\"dataframe\">\n",
       "  <thead>\n",
       "    <tr style=\"text-align: right;\">\n",
       "      <th></th>\n",
       "      <th>age</th>\n",
       "      <th>job</th>\n",
       "      <th>marital</th>\n",
       "      <th>education</th>\n",
       "      <th>default</th>\n",
       "      <th>housing</th>\n",
       "      <th>loan</th>\n",
       "      <th>contact</th>\n",
       "      <th>duration</th>\n",
       "      <th>campaign</th>\n",
       "      <th>pdays</th>\n",
       "      <th>previous</th>\n",
       "      <th>poutcome</th>\n",
       "      <th>y</th>\n",
       "    </tr>\n",
       "  </thead>\n",
       "  <tbody>\n",
       "    <tr>\n",
       "      <th>0</th>\n",
       "      <td>29</td>\n",
       "      <td>9</td>\n",
       "      <td>2</td>\n",
       "      <td>2</td>\n",
       "      <td>0</td>\n",
       "      <td>2</td>\n",
       "      <td>0</td>\n",
       "      <td>0</td>\n",
       "      <td>648.0</td>\n",
       "      <td>1</td>\n",
       "      <td>999</td>\n",
       "      <td>0</td>\n",
       "      <td>1</td>\n",
       "      <td>0</td>\n",
       "    </tr>\n",
       "    <tr>\n",
       "      <th>1</th>\n",
       "      <td>31</td>\n",
       "      <td>0</td>\n",
       "      <td>2</td>\n",
       "      <td>6</td>\n",
       "      <td>0</td>\n",
       "      <td>0</td>\n",
       "      <td>0</td>\n",
       "      <td>0</td>\n",
       "      <td>295.0</td>\n",
       "      <td>1</td>\n",
       "      <td>999</td>\n",
       "      <td>0</td>\n",
       "      <td>1</td>\n",
       "      <td>0</td>\n",
       "    </tr>\n",
       "    <tr>\n",
       "      <th>2</th>\n",
       "      <td>27</td>\n",
       "      <td>1</td>\n",
       "      <td>2</td>\n",
       "      <td>2</td>\n",
       "      <td>0</td>\n",
       "      <td>2</td>\n",
       "      <td>0</td>\n",
       "      <td>1</td>\n",
       "      <td>236.0</td>\n",
       "      <td>2</td>\n",
       "      <td>999</td>\n",
       "      <td>0</td>\n",
       "      <td>1</td>\n",
       "      <td>0</td>\n",
       "    </tr>\n",
       "    <tr>\n",
       "      <th>3</th>\n",
       "      <td>30</td>\n",
       "      <td>7</td>\n",
       "      <td>1</td>\n",
       "      <td>7</td>\n",
       "      <td>0</td>\n",
       "      <td>0</td>\n",
       "      <td>0</td>\n",
       "      <td>1</td>\n",
       "      <td>143.0</td>\n",
       "      <td>3</td>\n",
       "      <td>999</td>\n",
       "      <td>0</td>\n",
       "      <td>1</td>\n",
       "      <td>0</td>\n",
       "    </tr>\n",
       "    <tr>\n",
       "      <th>4</th>\n",
       "      <td>32</td>\n",
       "      <td>9</td>\n",
       "      <td>1</td>\n",
       "      <td>6</td>\n",
       "      <td>0</td>\n",
       "      <td>0</td>\n",
       "      <td>0</td>\n",
       "      <td>0</td>\n",
       "      <td>155.0</td>\n",
       "      <td>1</td>\n",
       "      <td>999</td>\n",
       "      <td>0</td>\n",
       "      <td>1</td>\n",
       "      <td>0</td>\n",
       "    </tr>\n",
       "    <tr>\n",
       "      <th>...</th>\n",
       "      <td>...</td>\n",
       "      <td>...</td>\n",
       "      <td>...</td>\n",
       "      <td>...</td>\n",
       "      <td>...</td>\n",
       "      <td>...</td>\n",
       "      <td>...</td>\n",
       "      <td>...</td>\n",
       "      <td>...</td>\n",
       "      <td>...</td>\n",
       "      <td>...</td>\n",
       "      <td>...</td>\n",
       "      <td>...</td>\n",
       "      <td>...</td>\n",
       "    </tr>\n",
       "    <tr>\n",
       "      <th>8232</th>\n",
       "      <td>33</td>\n",
       "      <td>0</td>\n",
       "      <td>2</td>\n",
       "      <td>6</td>\n",
       "      <td>0</td>\n",
       "      <td>0</td>\n",
       "      <td>0</td>\n",
       "      <td>1</td>\n",
       "      <td>147.0</td>\n",
       "      <td>1</td>\n",
       "      <td>999</td>\n",
       "      <td>0</td>\n",
       "      <td>1</td>\n",
       "      <td>0</td>\n",
       "    </tr>\n",
       "    <tr>\n",
       "      <th>8233</th>\n",
       "      <td>39</td>\n",
       "      <td>1</td>\n",
       "      <td>1</td>\n",
       "      <td>2</td>\n",
       "      <td>0</td>\n",
       "      <td>0</td>\n",
       "      <td>0</td>\n",
       "      <td>1</td>\n",
       "      <td>793.0</td>\n",
       "      <td>5</td>\n",
       "      <td>999</td>\n",
       "      <td>0</td>\n",
       "      <td>1</td>\n",
       "      <td>0</td>\n",
       "    </tr>\n",
       "    <tr>\n",
       "      <th>8234</th>\n",
       "      <td>36</td>\n",
       "      <td>0</td>\n",
       "      <td>1</td>\n",
       "      <td>6</td>\n",
       "      <td>0</td>\n",
       "      <td>2</td>\n",
       "      <td>0</td>\n",
       "      <td>1</td>\n",
       "      <td>120.0</td>\n",
       "      <td>2</td>\n",
       "      <td>999</td>\n",
       "      <td>0</td>\n",
       "      <td>1</td>\n",
       "      <td>0</td>\n",
       "    </tr>\n",
       "    <tr>\n",
       "      <th>8235</th>\n",
       "      <td>50</td>\n",
       "      <td>0</td>\n",
       "      <td>1</td>\n",
       "      <td>6</td>\n",
       "      <td>0</td>\n",
       "      <td>2</td>\n",
       "      <td>2</td>\n",
       "      <td>0</td>\n",
       "      <td>189.0</td>\n",
       "      <td>2</td>\n",
       "      <td>999</td>\n",
       "      <td>1</td>\n",
       "      <td>0</td>\n",
       "      <td>0</td>\n",
       "    </tr>\n",
       "    <tr>\n",
       "      <th>8236</th>\n",
       "      <td>29</td>\n",
       "      <td>0</td>\n",
       "      <td>2</td>\n",
       "      <td>6</td>\n",
       "      <td>0</td>\n",
       "      <td>2</td>\n",
       "      <td>0</td>\n",
       "      <td>1</td>\n",
       "      <td>713.0</td>\n",
       "      <td>1</td>\n",
       "      <td>999</td>\n",
       "      <td>0</td>\n",
       "      <td>1</td>\n",
       "      <td>0</td>\n",
       "    </tr>\n",
       "  </tbody>\n",
       "</table>\n",
       "<p>8237 rows × 14 columns</p>\n",
       "</div>"
      ],
      "text/plain": [
       "      age  job  marital  education  default  housing  loan  contact  duration  \\\n",
       "0      29    9        2          2        0        2     0        0     648.0   \n",
       "1      31    0        2          6        0        0     0        0     295.0   \n",
       "2      27    1        2          2        0        2     0        1     236.0   \n",
       "3      30    7        1          7        0        0     0        1     143.0   \n",
       "4      32    9        1          6        0        0     0        0     155.0   \n",
       "...   ...  ...      ...        ...      ...      ...   ...      ...       ...   \n",
       "8232   33    0        2          6        0        0     0        1     147.0   \n",
       "8233   39    1        1          2        0        0     0        1     793.0   \n",
       "8234   36    0        1          6        0        2     0        1     120.0   \n",
       "8235   50    0        1          6        0        2     2        0     189.0   \n",
       "8236   29    0        2          6        0        2     0        1     713.0   \n",
       "\n",
       "      campaign  pdays  previous  poutcome  y  \n",
       "0            1    999         0         1  0  \n",
       "1            1    999         0         1  0  \n",
       "2            2    999         0         1  0  \n",
       "3            3    999         0         1  0  \n",
       "4            1    999         0         1  0  \n",
       "...        ...    ...       ...       ... ..  \n",
       "8232         1    999         0         1  0  \n",
       "8233         5    999         0         1  0  \n",
       "8234         2    999         0         1  0  \n",
       "8235         2    999         1         0  0  \n",
       "8236         1    999         0         1  0  \n",
       "\n",
       "[8237 rows x 14 columns]"
      ]
     },
     "execution_count": 48,
     "metadata": {},
     "output_type": "execute_result"
    }
   ],
   "source": [
    "df"
   ]
  },
  {
   "cell_type": "code",
   "execution_count": 51,
   "id": "789c2f0f-5727-49b7-92e0-c534cbbf4abb",
   "metadata": {},
   "outputs": [
    {
     "name": "stdout",
     "output_type": "stream",
     "text": [
      "age\n",
      "31    308\n",
      "32    298\n",
      "34    294\n",
      "36    292\n",
      "35    280\n",
      "     ... \n",
      "17      2\n",
      "85      2\n",
      "98      1\n",
      "87      1\n",
      "84      1\n",
      "Name: count, Length: 73, dtype: int64\n",
      "\n",
      "job\n",
      "0     1651\n",
      "1     1498\n",
      "9     1079\n",
      "7      618\n",
      "4      507\n",
      "5      269\n",
      "6      232\n",
      "2      222\n",
      "10     166\n",
      "3      156\n",
      "8      139\n",
      "11      52\n",
      "Name: count, dtype: int64\n",
      "\n",
      "marital\n",
      "1    3960\n",
      "2    1854\n",
      "0     763\n",
      "3      12\n",
      "Name: count, dtype: int64\n",
      "\n",
      "education\n",
      "6    1948\n",
      "3    1548\n",
      "2     917\n",
      "5     853\n",
      "0     694\n",
      "1     364\n",
      "7     260\n",
      "4       5\n",
      "Name: count, dtype: int64\n",
      "\n",
      "default\n",
      "0    5234\n",
      "1    1353\n",
      "2       2\n",
      "Name: count, dtype: int64\n",
      "\n",
      "housing\n",
      "2    3457\n",
      "0    2970\n",
      "1     162\n",
      "Name: count, dtype: int64\n",
      "\n",
      "loan\n",
      "0    5490\n",
      "2     937\n",
      "1     162\n",
      "Name: count, dtype: int64\n",
      "\n",
      "contact\n",
      "0    4191\n",
      "1    2398\n",
      "Name: count, dtype: int64\n",
      "\n",
      "duration\n",
      "72.0      36\n",
      "125.0     35\n",
      "73.0      32\n",
      "113.0     31\n",
      "97.0      30\n",
      "          ..\n",
      "910.0      1\n",
      "1080.0     1\n",
      "2078.0     1\n",
      "955.0      1\n",
      "769.0      1\n",
      "Name: count, Length: 954, dtype: int64\n",
      "\n",
      "campaign\n",
      "1     2818\n",
      "2     1704\n",
      "3      887\n",
      "4      400\n",
      "5      240\n",
      "6      161\n",
      "7       95\n",
      "8       58\n",
      "9       49\n",
      "10      43\n",
      "11      36\n",
      "12      26\n",
      "13      13\n",
      "17      11\n",
      "16       8\n",
      "15       6\n",
      "14       6\n",
      "19       4\n",
      "22       4\n",
      "18       3\n",
      "21       3\n",
      "20       2\n",
      "31       2\n",
      "24       2\n",
      "23       2\n",
      "34       1\n",
      "26       1\n",
      "28       1\n",
      "43       1\n",
      "32       1\n",
      "25       1\n",
      "Name: count, dtype: int64\n",
      "\n",
      "pdays\n",
      "999    6351\n",
      "3        60\n",
      "6        59\n",
      "4        22\n",
      "12       14\n",
      "1        12\n",
      "9        12\n",
      "7         9\n",
      "10        8\n",
      "2         7\n",
      "5         6\n",
      "8         5\n",
      "13        5\n",
      "11        5\n",
      "15        3\n",
      "18        3\n",
      "0         3\n",
      "14        2\n",
      "16        2\n",
      "17        1\n",
      "Name: count, dtype: int64\n",
      "\n",
      "previous\n",
      "0    5673\n",
      "1     761\n",
      "2     113\n",
      "3      29\n",
      "4      10\n",
      "6       2\n",
      "5       1\n",
      "Name: count, dtype: int64\n",
      "\n",
      "poutcome\n",
      "1    5673\n",
      "0     703\n",
      "2     213\n",
      "Name: count, dtype: int64\n",
      "\n"
     ]
    }
   ],
   "source": [
    "for i in x_train.columns:\n",
    "  print(x_train[i].value_counts())\n",
    "  print()"
   ]
  },
  {
   "cell_type": "markdown",
   "id": "4ae19656-a696-4e92-a675-99fa582a3042",
   "metadata": {},
   "source": [
    "## Link Video"
   ]
  },
  {
   "cell_type": "markdown",
   "id": "ba431a69-4056-4506-9187-c509eacb7d38",
   "metadata": {},
   "source": [
    "https://drive.google.com/file/d/1X2LHzFhtwI_F9E9SiBIdhaJvMcwYJtcK/view?usp=sharing;"
   ]
  }
 ],
 "metadata": {
  "kernelspec": {
   "display_name": "Python 3 (ipykernel)",
   "language": "python",
   "name": "python3"
  },
  "language_info": {
   "codemirror_mode": {
    "name": "ipython",
    "version": 3
   },
   "file_extension": ".py",
   "mimetype": "text/x-python",
   "name": "python",
   "nbconvert_exporter": "python",
   "pygments_lexer": "ipython3",
   "version": "3.10.13"
  }
 },
 "nbformat": 4,
 "nbformat_minor": 5
}
